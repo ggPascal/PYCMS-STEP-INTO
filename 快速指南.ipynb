{
  "nbformat": 4,
  "nbformat_minor": 0,
  "metadata": {
    "colab": {
      "name": "快速指南.ipynb",
      "version": "0.3.2",
      "provenance": [],
      "private_outputs": true,
      "include_colab_link": true
    },
    "kernelspec": {
      "name": "python3",
      "display_name": "Python 3"
    }
  },
  "cells": [
    {
      "cell_type": "markdown",
      "metadata": {
        "id": "view-in-github",
        "colab_type": "text"
      },
      "source": [
        "<a href=\"https://colab.research.google.com/github/ggPascal/PYCMS-STEP-INTO/blob/master/%E5%BF%AB%E9%80%9F%E6%8C%87%E5%8D%97.ipynb\" target=\"_parent\"><img src=\"https://colab.research.google.com/assets/colab-badge.svg\" alt=\"Open In Colab\"/></a>"
      ]
    },
    {
      "cell_type": "code",
      "metadata": {
        "id": "jXUSwGOGH1AS",
        "colab_type": "code",
        "colab": {}
      },
      "source": [
        ""
      ],
      "execution_count": 0,
      "outputs": []
    },
    {
      "cell_type": "markdown",
      "metadata": {
        "id": "yBAguX8-Wnoz",
        "colab_type": "text"
      },
      "source": [
        "#请先阅读使用条例和著作权声明，[链接](https://github.com/ggPascal/PYCMS-STEP-INTO/blob/master/%E8%91%97%E4%BD%9C%E6%9D%83%E5%92%8C%E4%BD%BF%E7%94%A8%E6%9D%A1%E4%BE%8B.pdf)"
      ]
    },
    {
      "cell_type": "markdown",
      "metadata": {
        "id": "PTawhebXH4eZ",
        "colab_type": "text"
      },
      "source": [
        "#学会构建环境\n",
        "没环境，软件是运行不了的。  \n",
        "本指南以Windows环境为基础，Linux之后会更新。\n"
      ]
    },
    {
      "cell_type": "markdown",
      "metadata": {
        "id": "UU6WL6MFISPj",
        "colab_type": "text"
      },
      "source": [
        "#  安装Anaconda环境\n",
        "这个是为了防止你不会装各种复杂的程序而诞生的，嫌太大（2GB）的话可以搜索 miniAnaonda\n",
        "走完安装程序后，只用cpu的，键入这个指令\n",
        "\n",
        "\n",
        "```\n",
        "conda install python3 tensorflow keras jupyter\n",
        "```\n",
        "用GPU的，将上面的tensorflow改为tensorflow-gpu即可  \n",
        "具体包名如下，遇到不存在软件包时用 conda search +包名 即可\n",
        "\n",
        "\n",
        "*   pyhton3\n",
        "*   tensorflow(CPU)\n",
        "*   tensorflow-gpu(GPU)\n",
        "*   jupyter notebook\n",
        "\n",
        "等待时间1小时左右，实在等不了就去搜索 “清华镜像 Aconda”  \n",
        "附加提醒：NVIDA要更新驱动才可以用显卡加速（GPU），AMD的暂时用不了\n",
        "\n",
        "\n",
        "\n"
      ]
    },
    {
      "cell_type": "code",
      "metadata": {
        "id": "mRijsGwIKWKE",
        "colab_type": "code",
        "colab": {}
      },
      "source": [
        ""
      ],
      "execution_count": 0,
      "outputs": []
    },
    {
      "cell_type": "markdown",
      "metadata": {
        "id": "THYsTtQKKXH6",
        "colab_type": "text"
      },
      "source": [
        "#下载指定章节\n",
        "Github中点进文件，点右上方的 RAW 按钮，一般就开始下载了。 \n",
        "没开始下载的把目前网页地址复制进下载软件下载。  \n",
        "\n",
        "我自己运行的结果，代码运行都要下载下来才可以用。"
      ]
    },
    {
      "cell_type": "markdown",
      "metadata": {
        "id": "XTj9V7r-LzIW",
        "colab_type": "text"
      },
      "source": [
        "# Github使用\n",
        "如果你想评论，请求上传或者修改教材的话，你需要注册一个账号。  \n",
        "Sign in就是注册了，使用电子邮箱注册  \n",
        "\n",
        "issue是问题反馈区和评论区，进去后New issue就是新建一个可追踪的帖子。  \n",
        "Post request是上传请求区，如果你发现有什么资源缺失，请在这里提出上传"
      ]
    }
  ]
}