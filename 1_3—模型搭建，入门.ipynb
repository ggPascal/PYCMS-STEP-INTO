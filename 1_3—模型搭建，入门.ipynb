{
  "nbformat": 4,
  "nbformat_minor": 0,
  "metadata": {
    "colab": {
      "name": "1.3—模型搭建，入门.ipynb",
      "version": "0.3.2",
      "provenance": [],
      "collapsed_sections": [],
      "include_colab_link": true
    },
    "kernelspec": {
      "name": "python3",
      "display_name": "Python 3"
    }
  },
  "cells": [
    {
      "cell_type": "markdown",
      "metadata": {
        "id": "view-in-github",
        "colab_type": "text"
      },
      "source": [
        "<a href=\"https://colab.research.google.com/github/ggPascal/PYCMS-STEP-INTO/blob/master/1_3%E2%80%94%E6%A8%A1%E5%9E%8B%E6%90%AD%E5%BB%BA%EF%BC%8C%E5%85%A5%E9%97%A8.ipynb\" target=\"_parent\"><img src=\"https://colab.research.google.com/assets/colab-badge.svg\" alt=\"Open In Colab\"/></a>"
      ]
    },
    {
      "cell_type": "code",
      "metadata": {
        "id": "vCtVK_NDZhsS",
        "colab_type": "code",
        "colab": {}
      },
      "source": [
        ""
      ],
      "execution_count": 0,
      "outputs": []
    },
    {
      "cell_type": "markdown",
      "metadata": {
        "id": "uTDCOJKQomNH",
        "colab_type": "text"
      },
      "source": [
        "# 为了防止出现内容错误，手机端用户请在浏览器设置中选中：桌面页面（由于各种软件不是很统一，请自行查询），或者横屏观看！！！\n"
      ]
    },
    {
      "cell_type": "markdown",
      "metadata": {
        "id": "_1S4kPGEacwW",
        "colab_type": "text"
      },
      "source": [
        "# 预先载入的内容\n",
        "<font size=4>\n",
        "这一节我们仍然要用到上一节课的代码。有的时候，材料复用可以节省不少精力。"
      ]
    },
    {
      "cell_type": "code",
      "metadata": {
        "id": "MxSFuKtzcdpf",
        "colab_type": "code",
        "outputId": "5f55d1bf-ab66-4445-9005-206dd0d9bc60",
        "colab": {
          "base_uri": "https://localhost:8080/",
          "height": 135
        }
      },
      "source": [
        "#上节课的代码\n",
        "#2019.9.3：仍含有符号错误\n",
        "from keras.datasets import mnist\n",
        "from keras.models import Squential\n",
        "from keras.layers import Dense,Activation\n",
        "(train_data,train_label), (test_data,test_label) = mnist.load_data()\n",
        "model = Squential()\n",
        "model.add(Dense(512, activation=\"relu\", input_shape=None,3,32,32))\n",
        "model.add(dense(512, activation=\"relu\"))\n",
        "model.add(Dense(200, activation=\"sofxmax\"))\n",
        "model.compile(optimizer=\"rmsprop\", \n",
        "              loss = \"categorcial_crossentropy\", \n",
        "              metrices = [\"accuracy\"])\n",
        "model.fit(train_data,train_label, epochs=20)"
      ],
      "execution_count": 0,
      "outputs": [
        {
          "output_type": "error",
          "ename": "SyntaxError",
          "evalue": "ignored",
          "traceback": [
            "\u001b[0;36m  File \u001b[0;32m\"<ipython-input-1-b2640ce42c87>\"\u001b[0;36m, line \u001b[0;32m6\u001b[0m\n\u001b[0;31m    model.add(Dense(512, activation=\"relu\", input_shape=None,3,32,32))\u001b[0m\n\u001b[0m                                                            ^\u001b[0m\n\u001b[0;31mSyntaxError\u001b[0m\u001b[0;31m:\u001b[0m positional argument follows keyword argument\n"
          ]
        }
      ]
    },
    {
      "cell_type": "code",
      "metadata": {
        "id": "uiZtFoTTr0Im",
        "colab_type": "code",
        "colab": {}
      },
      "source": [
        ""
      ],
      "execution_count": 0,
      "outputs": []
    },
    {
      "cell_type": "markdown",
      "metadata": {
        "id": "xUTA0Vf4sPJy",
        "colab_type": "text"
      },
      "source": [
        "# 分析与模型有关的代码\n",
        "<font size=4>  \n",
        "\n",
        "```\n",
        "model =Squential()\n",
        "```\n",
        "这个代码的意思，就是调用线性模型API（应用接口）。  \n",
        "线性模型类似于工厂的流水线，只有一个方向，一个进料口，一个出料口。  \n",
        "需要注意的是，在这个流程中，数据的改变是不可逆的。因此最大的问题就是如何安排网络层结构，防止过多的数据不可逆处理。  \n",
        "\n",
        "\n",
        "---\n",
        "\n",
        "\n",
        "```\n",
        "model.add(Dense(512, activation=“relu”,input_shape=(None,3,32,32))\n",
        "model.add(Dense(512, activation=“relu”))\n",
        "model.add(Dense(200, activation=“softmax”)\n",
        "\n",
        "```\n",
        "这一段代码有没有看得头晕眼花？  \n",
        "不急，一个个分析就行。  \n",
        "\n",
        "\n",
        "---\n",
        "\n",
        "\n",
        "\n",
        "这里的model.add实际上等于keras.model.Squential.add。在Python中，函数可以被继承至一个对象下。model=Squential()就是在执行这个操作。 \n",
        "\n",
        "\n",
        "---\n",
        "\n",
        "\n",
        ".add的作用是向线性模型中添加网络层。接受一个网络层函数，本例子中为Dense网络函数。  \n",
        "\n",
        "Dense网络是现代改良过的感知器网络，解决了回环视觉问题。Dense网络函数接受的参数格式如下：（隐藏神经元数量，激活函数，高级定义函数），高级定义函数将会在高级编程中讲解。  \n",
        "\n",
        "隐藏神经元数量决定了网络学习的速度，后期对信息的挖掘程度。现代编程中，我们指定的是求解空间大小。512意味着该空间有512个轴，空间总维度为512维。任意维度的数据会缩放到指定维度空间，计算升维度后的数据就是神经元自身的函数。通过叠加权重，裁剪数据降维度。  \n",
        "\n",
        "\n",
        "---\n",
        "\n",
        "\n",
        "比如，现在进行4维转3维。根据坐标旋转转化，将该轴的坐标转移到最近的轴的投影面上（在这个时候，权重也会用来决定轴的配对）。接下来，将一个轴根据微分链计算降维度。最后变化到只有3个轴。  \n",
        "\n",
        "\n",
        "---\n",
        "\n",
        "\n",
        "激活函数用于丰富空间内容，限制数据范围，限定降维中的数据类型。该选项99%的情况下要填。  \n",
        "\n",
        "默认的计算为：f(x)=x。这个时候进行的是线性模仿，也就是通过输入数据投影出结果。这种方法不适用于不同种类之间的数据转换，数据预测（因为它需要指定数据类型）。  \n",
        "\n",
        "如果加上了激活函数，那么计算就会变为：f(x)=activation(x)。即激活函数替代之前的输出。Keras会自动解决激活函数应该处理哪一部分的数据，不需要自行写出具体的处理步骤。  \n",
        "\n",
        "\n",
        "---\n",
        "\n",
        "\n",
        "在本例子中，其中一个激活函数为relu，整流线性单元。是一个指导降维的激活函数。函数默认计算为max(x,0)，即在x至0的区间中，选择最大的数据。数据通常来源于需要降维的轴。  \n",
        "\n",
        "另一个是softmax，也是指导降维计算的函数。该函数将会试图将数据点上的数据转换为一个整数。一般使用加权相近法实现。  \n",
        "\n",
        "\n",
        "---\n",
        "\n",
        "\n",
        "现在结合起来，讲一下实际的计算流程。  \n",
        "\n",
        "数据进入网络后，在512维空间内显示出特征。接下来乘以各自的权重数据，经过relu函数，投影到指定输出维度。  \n",
        "\n",
        "在下一层网络中，重复上述操作。最后一层网络则缩放至200维空间，乘以各自的权重，softmax函数寻找最近的整数解，投影，输出最终结果。  \n",
        "\n",
        "注意到没有？网络的求解空间维度一直在变。这是因为一直给予过大的空间维度容易造成性能不稳定。\n",
        "\n",
        "\n",
        "---\n",
        "\n",
        "```\n",
        "model.comple(optimizer=“rmsprop”, loss=“categorcial_crossentropy”, metrices=[“accuracy”])\n",
        "\n",
        "model.fit(train_data ,train_label ,epochs=20)\n",
        "```\n",
        ".comple是通知Keras对模型进行编译。  \n",
        "\n",
        "\n",
        "---\n",
        "\n",
        "\n",
        "模型编译是指梳理结构，优化动机图，翻译成后端引擎可以读取的格式。  \n",
        "\n",
        "编译需要参数指引。optimizer是优化器之意，负责解读梯度下降带来的数据，需要根据数据类型而改变。rmsprop是一种平方衰减优化器，它不具有自我学习能力，需要人工终止来避免过度拟合。loss 损失函数之意，用于计算当前网络的输出与期望值的差距。categorcial_crossentropy，交叉信息熵损失函数。利用了数学的信息论来评估数据的离散程度，从而推断出两个状态间的距离。  \n",
        "\n",
        "metrices 衡量标准，可选选项。一旦填写，屏幕将实时输出当前的衡量值。训练完后会生成一个history对象，用于评估训练表现。\n",
        "\n",
        "\n",
        "---\n",
        "\n",
        "\n",
        "完成填写后，接下来Keras会生成一个受跟踪的对象。从输入端进入网络，记录所经过的网络层，最后在抵达输出端时停止跟踪。根据跟踪到的信息，Keras可以自动计算出中间缺漏的激活函数类别，张量大小。转换成动机图，检查是否含有重复连接，张量大小不匹配等现象。  \n",
        "\n",
        "\n",
        "---\n",
        "\n",
        "\n",
        ".fit是拟合神经网络的方法调用，需要建立在已有的动机图上执行。拟合采用的是上文提到过的梯度下降法。  \n",
        "\n",
        "梯度下降法需要获得输出与期望值的距离，这一步由所选择的损失函数完成。获得距离后，移交至优化器处理。优化器根据微积分链式求导法则，求解出每一个单独的神经元新的权重。如此反复，就可以训练神经网络输出正确的值。  \n",
        "\n",
        "该方法需要填写训练数据的x轴，y轴数据来源，用于制作数据样本平面。epchos是指次数，即神经网络需要执行多少次梯度下降拟合。若不填写，默认10次后终止训练。  \n",
        "\n",
        ".fit还会自动拆分数据样本平面，防止数据量过大。拆分之后，每一个样本叫做帧，英文为brach。\n",
        "\n"
      ]
    },
    {
      "cell_type": "markdown",
      "metadata": {
        "id": "MaqRqt3KbhEd",
        "colab_type": "text"
      },
      "source": [
        "# 回过神来！又是一个小节了！\n",
        "<font size=4>\n",
        "\n",
        "## 小结\n",
        "本次讲了神经网络的训练基本原理，仔细分析了Keras是如何帮助我们执行复杂的梯度下降。  \n",
        "## 里程碑\n",
        "你目前可以编写基于Dense的网络模型了，前提是假如有事先处理好的非序列数据的话  \n",
        "\n",
        "你目前可以和别人较为仔细的介绍Keras了，讲点浅层的神经网络训练知识应该是没有问题了  \n",
        "\n",
        "## 练习\n",
        "### 问答题\n",
        "1. 梯度下降是用来干嘛的？\n",
        "2. 优化器在训练中起到什么作用？\n",
        "3. 激活函数如何帮助神经网络的？\n",
        "4. 拟合又叫什么？\n",
        "\n",
        "### 社会思考题\n",
        "1. 现在，中国的教育很大程度上还是以成绩作为标准。在这个现象中，你认为哪个是衡量标准？假如学生是神经网络的话，你能预期到最后的训练结果吗？那是个怎样的结果？\n",
        "2. 目前，神经网络仍然还是很消耗算力资源。你认为是应该让全行业采用大量便宜的显卡来训练，还是应该只采购和使用高密度算力的昂贵显卡来训练？你的答案取决于什么？（不包含价格这个因素）\n",
        "\n"
      ]
    }
  ]
}