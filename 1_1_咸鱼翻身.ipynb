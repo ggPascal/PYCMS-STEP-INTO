{
  "nbformat": 4,
  "nbformat_minor": 0,
  "metadata": {
    "colab": {
      "name": "1.1 咸鱼翻身.ipynb",
      "provenance": [],
      "private_outputs": true,
      "collapsed_sections": []
    },
    "kernelspec": {
      "name": "python3",
      "display_name": "Python 3"
    }
  },
  "cells": [
    {
      "cell_type": "code",
      "metadata": {
        "id": "Q6RLMs5PbM_R",
        "colab_type": "code",
        "colab": {}
      },
      "source": [
        ""
      ],
      "execution_count": 0,
      "outputs": []
    },
    {
      "cell_type": "markdown",
      "metadata": {
        "id": "j0Gtjx5bOFQr",
        "colab_type": "text"
      },
      "source": [
        "<font size=4>\n",
        "\n",
        "# 给手机用户的提醒\n",
        "由于手机浏览器无法预测内容大小，恳请各位使用手机的同学将“桌面模式”或者“桌面页面”启用。  \n",
        "怎么启动嘛，去问度娘吧。"
      ]
    },
    {
      "cell_type": "markdown",
      "metadata": {
        "id": "GugqVytSbTyg",
        "colab_type": "text"
      },
      "source": [
        "<font size=4>\n",
        "\n",
        "# 你好\n",
        "先恭喜你十分成功的来到了这个教材所在的地址，内测的时候这里死了一大堆人 ＼(*T▽T*)／   \n",
        "我是PYCMS，本书的作者。专业化深度学习作死人员一枚。曾经写过让电脑爆炸的程序  \n",
        "附上照片 (•̀ω•́)✧ \n",
        "![要不然你断网了，要不然我又更新仓库了](https://raw.githubusercontent.com/ggPascal/PYCMS-STEP-INTO/master/%E6%95%99%E6%9D%90%E7%94%A8%E5%88%B0%E7%9A%84%E6%B6%82%E9%B8%A6%E7%94%BB/%E4%BD%9C%E8%80%85%E8%87%AA%E7%94%BB%E5%83%8F.jpg)\n"
      ]
    },
    {
      "cell_type": "markdown",
      "metadata": {
        "id": "mW4BCHqOdMg-",
        "colab_type": "text"
      },
      "source": [
        "<font size=4>\n",
        "\n",
        "# 要学啥啊(⊙…⊙)\n",
        "总的来说呢，你要学人工智能，并且尝试去融入它  \n",
        "\n",
        "先别急着激动(￣□￣；)  \n",
        "除此之外你还要学习如何收集数据，怎么自己去编写程序用来指导自动化搜集。  \n",
        "\n",
        "为了达到这个目的，你要学一下Python\n",
        "\n",
        "请不要使用任何的翻译软件来翻译这个词，以防被吓死（Python：n.蟒蛇）  \n",
        "\n",
        "Python是一种低门槛语言，同时也简单易读。  \n",
        "下面给一个例子\n",
        "\n",
        "\n",
        "---\n",
        "\n",
        "\n",
        "```\n",
        "if a > 1\n",
        "```\n",
        "中文意思：如果a 大于 1\n",
        "\n",
        "\n",
        "---\n",
        "\n",
        "够简单吧（๑ `▽´๑)۶   \n",
        "毕竟我还试过用Python来写英语作文。  \n"
      ]
    },
    {
      "cell_type": "markdown",
      "metadata": {
        "id": "V8jL4DIoB5-G",
        "colab_type": "text"
      },
      "source": [
        "<font size = 4>\n",
        "\n",
        "#怎么安装？\n",
        "如果你接下来要接着学习深度学习课程（PYCMS STEP INTO AI），miniconda是你最好的选择。这是一个科学计算环境整合包，十分好用  \n",
        "点击下面的链接就可以下载对应的安装包了。  \n",
        "\n",
        "\n",
        "*   [64位Windows](https://repo.anaconda.com/miniconda/Miniconda3-latest-Windows-x86_64.exe)\n",
        "*   [32位Windows](https://repo.anaconda.com/miniconda/Miniconda3-latest-Windows-x86.exe)\n",
        "* [64位MacOSX系统，通过Bash脚本安装](https://repo.anaconda.com/miniconda/Miniconda3-latest-MacOSX-x86_64.sh)\n",
        "* [64位MacOSX系统，通过pkg工具安装](https://repo.anaconda.com/miniconda/Miniconda3-latest-MacOSX-x86_64.pkg)\n",
        "* [64位Linux系统，安装器脚本](https://repo.anaconda.com/miniconda/Miniconda3-latest-Linux-x86_64.sh)\n",
        "* [32位Linux系统，安装器脚本](https://repo.anaconda.com/miniconda/Miniconda3-latest-Linux-x86.sh)\n",
        "\n",
        "\n",
        "由于Python 2.X系列2020年2月2日后将不再进行更新。因此若未有明确说明，本教材统一采用Python 3.X系列。\n",
        "\n",
        "![文件丢了](https://raw.githubusercontent.com/ggPascal/PYCMS-STEP-INTO/master/%E6%95%99%E6%9D%90%E7%94%A8%E5%88%B0%E7%9A%84%E6%B6%82%E9%B8%A6%E7%94%BB/%E7%B3%BB%E5%88%97%E8%A7%A3%E9%87%8A.jpg)\n"
      ]
    },
    {
      "cell_type": "markdown",
      "metadata": {
        "id": "l9ybbTH2gM3S",
        "colab_type": "text"
      },
      "source": [
        "<font size=4>\n",
        "\n",
        "# 现在开始吗\n",
        "要不然呢..... \n",
        "\n",
        "作为你的第一次Python编程，我们将会接触一下输出语句\n",
        "\n"
      ]
    },
    {
      "cell_type": "code",
      "metadata": {
        "id": "3WyKmRh2fBgQ",
        "colab_type": "code",
        "colab": {}
      },
      "source": [
        "print(\"Hello World\")"
      ],
      "execution_count": 0,
      "outputs": []
    },
    {
      "cell_type": "markdown",
      "metadata": {
        "id": "xdhFZ9VjQ3ja",
        "colab_type": "text"
      },
      "source": [
        "<font size=4 >\n",
        "\n",
        "Python采用print作为输出关键字。  \n",
        "你可能注意到，print后面跟着一对英文括号。这种写法被称为函数调用法，在Python3.0以后的版本中十分常见\n",
        "```\n",
        "f(x) = x+1 #数学函数写法\n",
        "print(x) #Python函数调用法\n",
        "\n",
        "```\n",
        "跟其它语言一样，print可以被一个参数所修饰。\n",
        "print的具体参数结构如下：\n",
        "```\n",
        "print(变量,修饰符,字符串....)\n",
        "修饰符有：重复“*” \n",
        "每一个参数均用“,”（英文逗号）分割\n",
        "```\n",
        "接下来演示多字符输出的效果。"
      ]
    },
    {
      "cell_type": "code",
      "metadata": {
        "id": "RLxH59w2Srte",
        "colab_type": "code",
        "colab": {}
      },
      "source": [
        "print(\"你好\",\"，\",\"Hello\")"
      ],
      "execution_count": 0,
      "outputs": []
    },
    {
      "cell_type": "markdown",
      "metadata": {
        "id": "8hbZLwLUS-MI",
        "colab_type": "text"
      },
      "source": [
        "<font size=4>\n",
        "\n",
        "上面的代码同样也展示了Python处理外语，字符串的表达方法。\n",
        "\n",
        "## Python如何处理外语？\n",
        "Python最初始仅为英语而设计，采用8比特位长度的ACSII码（美国字符信息标准交换码）。  \n",
        "在Python3.X系列发布后，Python转而使用了Unicode。Unicode又称万国码，该交换代码规定了通用于32种语言的字符二进制表达方案。  \n",
        "\n",
        "换句话说，Python 2.X不支持其它语种的显示，Python 3.X支持世界上任意一种主流语言的显示。\n",
        "\n",
        "请注意：Unicode会占据较大的空间，单字符最大需要3个字符编码。  \n",
        "\n",
        "Python内部也支持UTF-8（第八代Unicode转换压缩协议），从而节省硬盘空间。  \n",
        "![你的好友，文件掉线了](https://raw.githubusercontent.com/ggPascal/PYCMS-STEP-INTO/master/%E6%95%99%E6%9D%90%E7%94%A8%E5%88%B0%E7%9A%84%E6%B6%82%E9%B8%A6%E7%94%BB/%E7%B3%BB%E5%88%97%E8%A7%A3%E9%87%8A.jpg)\n",
        "## 字符串的格式\n",
        "字符串是一种数据的类型，以下的例子直观的演示了字符串的定义\n",
        "```\n",
        "Hello World --> 字符串\n",
        "H --> 字符\n",
        "```\n",
        "字符串在Python定义中是一种数组。\n",
        "### 数组是啥？\n",
        "下面的另一个例子告诉你数组是什么：\n",
        "```\n",
        "1 2 3 4 5 6 --> 数组\n",
        "1 --> 数字\n",
        "```\n",
        "数组有一个重要的特性，它可以在自己体内储存多组数据。  \n",
        "但是，有的时候，数组更多指的是数据组合。\n",
        "\n",
        "创建一个数组，不会很难。\n",
        "```\n",
        "a = [1,2,3,4,5]\n",
        "|     |\n",
        "|     |\n",
        "|     |\n",
        "|     |\n",
        "|     |\n",
        "变量   新创建的数组\n",
        "```\n",
        "在这里，变量a接收了我们所输入的数组，这个过程被称为“赋值”  \n",
        "数组的表达格式如下\n",
        "```\n",
        "[数字,数字,数字,数字,...]\n",
        "```\n",
        "如果要访问数组当中的某个值，就需要使用索引调取对应的值了  \n",
        "索引类似于数据的坐标，只要输入正确的索引，就能调取出对应的值。   \n",
        "需要注意的是，索引是从左向右递增的。 \n",
        "\n",
        "\n",
        "```\n",
        "a=[1,2,3,4,5]\n",
        "\n",
        "调取从左向右数第4个值\n",
        "\n",
        "代码：a[3]\n",
        "```\n",
        "下面是代码例子，使用了print来输出结果"
      ]
    },
    {
      "cell_type": "code",
      "metadata": {
        "id": "1B34Fv2IX3Pa",
        "colab_type": "code",
        "colab": {}
      },
      "source": [
        "a = [1,2,3,4,5]\n",
        "print(a[3])"
      ],
      "execution_count": 0,
      "outputs": []
    },
    {
      "cell_type": "markdown",
      "metadata": {
        "id": "zZMEW310YEax",
        "colab_type": "text"
      },
      "source": [
        "<font size=4>\n",
        "\n",
        "是不是觉得很奇怪，明明要求的是第4个值，为什么索引要填 3？  \n",
        "## 索引起点\n",
        "索引是存在一个最小值的，这个最小值对应数组中第一个值。一般被称为“索引起点”  \n",
        "你可以将print中的3改为0，看一下是不是第一个值。  \n",
        "\n",
        "Python使用 0 作为起点，因此实际索引和我们所看到的位置有以下关系：\n",
        "```\n",
        "实际索引 = 从左至右的位置 - 1\n",
        "```\n",
        "## 如何防止莫名其妙的错误\n",
        "数组实际上是有边界的，索引也是。  \n",
        "\n",
        "索引不可能为负数，因为不存在比第一个数据还前的数据。最大绝对不超过：本数组的长度 - 1\n",
        "\n",
        "利用 len() 函数能很方便的获取数组的长度，使用方法如下：\n",
        "```\n",
        "len(需要测量的数组变量名)\n",
        "```\n",
        "len() 是用于数组测量长度的，返回的值不是最大索引。\n",
        "\n",
        "那如果你真的调用了一个不存在的索引呢 \n",
        "\n",
        "PS：这是很常见的错误呢(；д；)"
      ]
    },
    {
      "cell_type": "code",
      "metadata": {
        "id": "bk_Ls3yO6xy7",
        "colab_type": "code",
        "colab": {}
      },
      "source": [
        "a = [1,2,3]\n",
        "long_arry = len(a)\n",
        "print(\"数组长度：\",long_arry)\n",
        "print(\"最大索引：\",long_arry - 1)\n",
        "print(\"正在访问 索引：\", long_arry)\n",
        "err = a[long_arry]"
      ],
      "execution_count": 0,
      "outputs": []
    },
    {
      "cell_type": "markdown",
      "metadata": {
        "id": "B6eU2gCT7X-K",
        "colab_type": "text"
      },
      "source": [
        "<font size=4>\n",
        "\n",
        "报错了吧(～￣▽￣)～   \n",
        "这就是Python中很常见的一种错误哦，out of index range（超出索引范围）。  \n",
        "这个时候要检查以下是不是超越最大索引了。用以下代码就可以了\n",
        "```\n",
        "if 访问索引变量 < 最大索引变量 or 访问索引变量 == 最大索引变量 :\n",
        "  你想运行的代码\n",
        "```\n",
        "用于刚才的代码的话，是这样的"
      ]
    },
    {
      "cell_type": "code",
      "metadata": {
        "id": "Q90s8rgQ8SRe",
        "colab_type": "code",
        "colab": {}
      },
      "source": [
        "a = [1,2,3]\n",
        "max_index = len(a) - 1\n",
        "print(\"最大索引：\",max_index)\n",
        "print(\"正在访问：\",max_index+1)\n",
        "input_index = len(a)\n",
        "if input_index < max_index or input_index == max_index :\n",
        "  print(\"在索引 \",input_index,\" 上的数据是：\",a[input_index])\n",
        "else :\n",
        "  print(\"出错了！\")\n"
      ],
      "execution_count": 0,
      "outputs": []
    },
    {
      "cell_type": "markdown",
      "metadata": {
        "id": "2w4JydJpS5IV",
        "colab_type": "text"
      },
      "source": [
        "<font size=4>\n",
        "这样的话，就能保护程序了。"
      ]
    },
    {
      "cell_type": "markdown",
      "metadata": {
        "id": "PeUWTsVe9dpH",
        "colab_type": "text"
      },
      "source": [
        "<font size=4>\n",
        "\n",
        "# 你是不是忘记讲变量了\n",
        "变量是用于表达数据的助记符，通常一个变量代表了一个拥有特定内存地址的数据\n",
        "## 工作原理\n",
        "在现代编程语言诞生之前，所有的计算机采用汇编语言进行编程。如果再向前追溯，就是机械语言了。  \n",
        "我将会演示一段和变量有关的汇编语言\n",
        "```\n",
        "PULL MR1\n",
        "ADD MR4 MR1\n",
        "PUSH MR1\n",
        "```\n",
        "这三行汇编代码，其实等价于下面的代码\n",
        "```\n",
        "a = 0\n",
        "```\n",
        "目的其实都相同：创建变量。\n",
        "\n",
        "变量实际上是某些数据的内存映射\n",
        "```\n",
        "数据真实地址：0x00001cr\n",
        "映射变量: a\n",
        "```\n",
        "Python采用的是随用随创建的形式，相当于只有提到一个从未遇到的数据存放位置时才会新申请一个位置。  \n",
        "Python在创建变量前，需要决定该变量的类型。  \n",
        "变量可分为以下几类：\n",
        "\n",
        "\n",
        "*   布尔（真假值）\n",
        "*   数组（字符串也包含在内）\n",
        "* 函数指针\n",
        "* 字符\n",
        "* 整数\n",
        "* 浮点（小数）\n",
        "\n",
        "Python采用遇见式方案，类型决定流程如下\n",
        "```\n",
        "a = 123 #这个时候，a遇到了整数，因此它被决定成整数型变量\n",
        "b = \"c\" #这个时候，b遇到了字符，因此它被决定成字符型变量\n",
        "\n",
        "a = \"c\" #这个时候，a遇到了字符，它的类型随即被改变\n",
        "```\n",
        "\n",
        "Python的这种特性使得一些程序不需要过多的变量，但同时增加了Python遇到数据错误的几率。  \n",
        "\n",
        "\n",
        "\n"
      ]
    },
    {
      "cell_type": "markdown",
      "metadata": {
        "id": "T7wHttHoOyEf",
        "colab_type": "text"
      },
      "source": [
        "<font size=4>\n",
        "\n",
        "# 驶入休息站吧\n",
        "到现在为止，你已经走过变量章节了。变量对于程序至关重要，是很多功能实现的基础。  \n",
        "但应该提醒的是：目前我们走过的只是数据变量，函数指针变量尚未出现在我们的视野里。  \n"
      ]
    },
    {
      "cell_type": "markdown",
      "metadata": {
        "id": "I31Q-rI8RGbp",
        "colab_type": "text"
      },
      "source": [
        "<font size=4>\n",
        "\n",
        "# 视频同步\n",
        "如果你是在 PYCMS STEP INTO的视频里过来的话，本节内容对应视频的第一集中的第2小节。"
      ]
    },
    {
      "cell_type": "markdown",
      "metadata": {
        "id": "s_rCjP7ARjrF",
        "colab_type": "text"
      },
      "source": [
        "<font size=4>\n",
        "\n",
        "# 做一下题目吧\n",
        "## 一、请写出符合以下要求的程序\n",
        "请写出一个程序，要求实现打印字符串：“RES 000”\n",
        "## 二、请在纸上预测程序结果\n",
        "1、\n",
        "```\n",
        "a = 1\n",
        "a = \"csc\"\n",
        "print(a)\n",
        "```\n",
        "关键步骤提示：print可以打印变量中的内容  \n",
        "\n",
        "2、\n",
        "```\n",
        "a = [1,2,3]\n",
        "print(a[2])\n",
        "```\n",
        "## 三、请在纸上回答以下问题\n",
        "1. 请问如何计算最大索引值？\n",
        "2. Python的索引起点是多少？\n",
        "3. 若超过最大索引值，程序将会报出什么错误？ \n"
      ]
    },
    {
      "cell_type": "markdown",
      "metadata": {
        "id": "RXzHTgQyX1DA",
        "colab_type": "text"
      },
      "source": [
        "<font size=4>\n",
        "\n",
        "# 预习\n",
        "1. 什么叫布尔逻辑？\n",
        "2. 三段论是什么？\n",
        "3. 循环是一种什么结构？\n"
      ]
    }
  ]
}